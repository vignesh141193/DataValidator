{
 "cells": [
  {
   "cell_type": "code",
   "execution_count": 28,
   "metadata": {},
   "outputs": [],
   "source": [
    "class product:\n",
    "    def __init__(self, name, price):\n",
    "        self.name = name\n",
    "        self.price = price\n",
    "    def discount_calculator(self,discounttype,discountvalue):\n",
    "        if discounttype == 'percentage':\n",
    "            self.price = self.price*(1-discountvalue/100)\n",
    "        elif discounttype == 'fixed':\n",
    "            self.price = self.price-discountvalue\n",
    "        elif discounttype == 'reward_points':\n",
    "            self.price = self.price - (discountvalue*0.1)\n",
    "        else:\n",
    "            print(\"invalid discount \")\n",
    "        return self.price\n"
   ]
  },
  {
   "cell_type": "code",
   "execution_count": 7,
   "metadata": {},
   "outputs": [
    {
     "name": "stdout",
     "output_type": "stream",
     "text": [
      "the new price is 22500.0\n"
     ]
    }
   ],
   "source": [
    "product = product(\"Desktop\",25000)\n",
    "new_price = product.discount_calculator('percentage',10)\n",
    "print(f\"the new price is {new_price}\")\n"
   ]
  },
  {
   "cell_type": "code",
   "execution_count": 9,
   "metadata": {},
   "outputs": [
    {
     "name": "stdout",
     "output_type": "stream",
     "text": [
      "the new price is 20000\n"
     ]
    }
   ],
   "source": [
    "product = product(\"Desktop\",25000)\n",
    "new_price = product.discount_calculator('fixed',5000)\n",
    "print(f\"the new price is {new_price}\")"
   ]
  },
  {
   "cell_type": "code",
   "execution_count": 11,
   "metadata": {},
   "outputs": [
    {
     "name": "stdout",
     "output_type": "stream",
     "text": [
      "the new price is 24950.0\n"
     ]
    }
   ],
   "source": [
    "product = product(\"Desktop\",25000)\n",
    "new_price = product.discount_calculator('reward_points',500)\n",
    "print(f\"the new price is {new_price}\")"
   ]
  },
  {
   "cell_type": "code",
   "execution_count": 25,
   "metadata": {},
   "outputs": [],
   "source": [
    "class cart:\n",
    "    def __init__(self):\n",
    "        self.items = []\n",
    "    def add_products(self,*args):\n",
    "        self.items.extend(args)\n",
    "    def total_price (self):\n",
    "        return sum([price for _, price in self.items])"
   ]
  },
  {
   "cell_type": "code",
   "execution_count": 26,
   "metadata": {},
   "outputs": [
    {
     "name": "stdout",
     "output_type": "stream",
     "text": [
      "8000\n"
     ]
    }
   ],
   "source": [
    "cart = cart()\n",
    "cart.add_products((\"tv\",5000),(\"shirt\",3000))\n",
    "print(cart.total_price())\n"
   ]
  },
  {
   "cell_type": "code",
   "execution_count": 42,
   "metadata": {},
   "outputs": [],
   "source": [
    "class product:\n",
    "    def __init__(self, name, price):\n",
    "        self.name = name\n",
    "        self.price = price\n",
    "    def discount_calculator(self,discounttype,discountvalue):\n",
    "        if discounttype == 'percentage':\n",
    "            self.price = self.price*(1-discountvalue/100)\n",
    "        elif discounttype == 'fixed':\n",
    "            self.price = self.price-discountvalue\n",
    "        else:\n",
    "            print(\"invalid discount \")\n",
    "        return self.price\n",
    "class Electronics(product):\n",
    "    def __init__(self,name,price,warranty_period):\n",
    "        super().__init__(name,price)\n",
    "        self.warranty_period = warranty_period\n",
    "    def apply_discount(self,discount_value):\n",
    "        return self.discount_calculator(\"percentage\",discount_value)\n",
    "class Clothing(product):\n",
    "    def __init__(self,name,price,size):\n",
    "        super().__init__(name,price)\n",
    "        self.size = size\n",
    "    def apply_discount(self,discount_value):\n",
    "        return self.discount_calculator(\"fixed\",discount_value)"
   ]
  },
  {
   "cell_type": "code",
   "execution_count": 43,
   "metadata": {},
   "outputs": [
    {
     "name": "stdout",
     "output_type": "stream",
     "text": [
      "45000.0\n",
      "1900\n"
     ]
    }
   ],
   "source": [
    "laptop = Electronics(\"Laptop\",50000,'5 Years')\n",
    "shirt = Clothing(\"Shirt\",2000,\"L\")\n",
    "\n",
    "print(laptop.apply_discount(10))\n",
    "print(shirt.apply_discount(100))"
   ]
  }
 ],
 "metadata": {
  "kernelspec": {
   "display_name": "Python 3",
   "language": "python",
   "name": "python3"
  },
  "language_info": {
   "codemirror_mode": {
    "name": "ipython",
    "version": 3
   },
   "file_extension": ".py",
   "mimetype": "text/x-python",
   "name": "python",
   "nbconvert_exporter": "python",
   "pygments_lexer": "ipython3",
   "version": "3.13.0"
  }
 },
 "nbformat": 4,
 "nbformat_minor": 2
}
